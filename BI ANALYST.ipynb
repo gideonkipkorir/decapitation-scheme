{
 "cells": [
  {
   "cell_type": "code",
   "execution_count": 31,
   "metadata": {},
   "outputs": [],
   "source": [
    "import pandas as pd\n",
    "import numpy as np"
   ]
  },
  {
   "cell_type": "code",
   "execution_count": 32,
   "metadata": {},
   "outputs": [],
   "source": [
    "bi = pd.read_csv(r'C:\\Users\\Gideon Kipkorir\\Desktop\\colab\\Datasets\\BI Analyst - Application Assessment LastName_FirstName - Sheet1.csv')"
   ]
  },
  {
   "cell_type": "code",
   "execution_count": 33,
   "metadata": {},
   "outputs": [
    {
     "data": {
      "text/html": [
       "<div>\n",
       "<style scoped>\n",
       "    .dataframe tbody tr th:only-of-type {\n",
       "        vertical-align: middle;\n",
       "    }\n",
       "\n",
       "    .dataframe tbody tr th {\n",
       "        vertical-align: top;\n",
       "    }\n",
       "\n",
       "    .dataframe thead th {\n",
       "        text-align: right;\n",
       "    }\n",
       "</style>\n",
       "<table border=\"1\" class=\"dataframe\">\n",
       "  <thead>\n",
       "    <tr style=\"text-align: right;\">\n",
       "      <th></th>\n",
       "      <th>VisitDate</th>\n",
       "      <th>PatientId</th>\n",
       "      <th>Location</th>\n",
       "      <th>Payor</th>\n",
       "      <th>Gender</th>\n",
       "      <th>InvoiceTotal</th>\n",
       "      <th>GrossMargin</th>\n",
       "    </tr>\n",
       "  </thead>\n",
       "  <tbody>\n",
       "    <tr>\n",
       "      <td>0</td>\n",
       "      <td>1/1/2018</td>\n",
       "      <td>PAT16851</td>\n",
       "      <td>Zimmerman</td>\n",
       "      <td>Cash</td>\n",
       "      <td>Female</td>\n",
       "      <td>200.0</td>\n",
       "      <td>36%</td>\n",
       "    </tr>\n",
       "    <tr>\n",
       "      <td>1</td>\n",
       "      <td>1/1/2018</td>\n",
       "      <td>PAT21149</td>\n",
       "      <td>Embakasi</td>\n",
       "      <td>Cash</td>\n",
       "      <td>Male</td>\n",
       "      <td>500.0</td>\n",
       "      <td>36%</td>\n",
       "    </tr>\n",
       "    <tr>\n",
       "      <td>2</td>\n",
       "      <td>1/1/2018</td>\n",
       "      <td>PAT12467</td>\n",
       "      <td>Zimmerman</td>\n",
       "      <td>Cash</td>\n",
       "      <td>Male</td>\n",
       "      <td>3728.0</td>\n",
       "      <td>36%</td>\n",
       "    </tr>\n",
       "    <tr>\n",
       "      <td>3</td>\n",
       "      <td>1/1/2018</td>\n",
       "      <td>PAT23784</td>\n",
       "      <td>Huruma</td>\n",
       "      <td>CIC Corporate</td>\n",
       "      <td>Female</td>\n",
       "      <td>150.0</td>\n",
       "      <td>50%</td>\n",
       "    </tr>\n",
       "    <tr>\n",
       "      <td>4</td>\n",
       "      <td>1/1/2018</td>\n",
       "      <td>PAT16344</td>\n",
       "      <td>Githurai 44</td>\n",
       "      <td>Cash</td>\n",
       "      <td>Female</td>\n",
       "      <td>2300.0</td>\n",
       "      <td>36%</td>\n",
       "    </tr>\n",
       "  </tbody>\n",
       "</table>\n",
       "</div>"
      ],
      "text/plain": [
       "  VisitDate PatientId     Location          Payor  Gender  InvoiceTotal  \\\n",
       "0  1/1/2018  PAT16851    Zimmerman           Cash  Female         200.0   \n",
       "1  1/1/2018  PAT21149     Embakasi           Cash    Male         500.0   \n",
       "2  1/1/2018  PAT12467    Zimmerman           Cash    Male        3728.0   \n",
       "3  1/1/2018  PAT23784       Huruma  CIC Corporate  Female         150.0   \n",
       "4  1/1/2018  PAT16344  Githurai 44           Cash  Female        2300.0   \n",
       "\n",
       "  GrossMargin  \n",
       "0         36%  \n",
       "1         36%  \n",
       "2         36%  \n",
       "3         50%  \n",
       "4         36%  "
      ]
     },
     "execution_count": 33,
     "metadata": {},
     "output_type": "execute_result"
    }
   ],
   "source": [
    "bi.head()"
   ]
  },
  {
   "cell_type": "code",
   "execution_count": 34,
   "metadata": {},
   "outputs": [
    {
     "data": {
      "text/html": [
       "<div>\n",
       "<style scoped>\n",
       "    .dataframe tbody tr th:only-of-type {\n",
       "        vertical-align: middle;\n",
       "    }\n",
       "\n",
       "    .dataframe tbody tr th {\n",
       "        vertical-align: top;\n",
       "    }\n",
       "\n",
       "    .dataframe thead th {\n",
       "        text-align: right;\n",
       "    }\n",
       "</style>\n",
       "<table border=\"1\" class=\"dataframe\">\n",
       "  <thead>\n",
       "    <tr style=\"text-align: right;\">\n",
       "      <th></th>\n",
       "      <th>VisitDate</th>\n",
       "      <th>PatientId</th>\n",
       "      <th>Location</th>\n",
       "      <th>Payor</th>\n",
       "      <th>Gender</th>\n",
       "      <th>InvoiceTotal</th>\n",
       "      <th>GrossMargin</th>\n",
       "    </tr>\n",
       "  </thead>\n",
       "  <tbody>\n",
       "    <tr>\n",
       "      <td>89408</td>\n",
       "      <td>9/9/2018</td>\n",
       "      <td>PAT22640</td>\n",
       "      <td>Huruma</td>\n",
       "      <td>Cash</td>\n",
       "      <td>Female</td>\n",
       "      <td>1000.0</td>\n",
       "      <td>36%</td>\n",
       "    </tr>\n",
       "    <tr>\n",
       "      <td>89409</td>\n",
       "      <td>9/9/2018</td>\n",
       "      <td>PAT24349</td>\n",
       "      <td>Umoja</td>\n",
       "      <td>Jubilee</td>\n",
       "      <td>Male</td>\n",
       "      <td>1150.0</td>\n",
       "      <td>50%</td>\n",
       "    </tr>\n",
       "    <tr>\n",
       "      <td>89410</td>\n",
       "      <td>9/9/2018</td>\n",
       "      <td>PAT14136</td>\n",
       "      <td>Umoja</td>\n",
       "      <td>Cash</td>\n",
       "      <td>Male</td>\n",
       "      <td>500.0</td>\n",
       "      <td>36%</td>\n",
       "    </tr>\n",
       "    <tr>\n",
       "      <td>89411</td>\n",
       "      <td>9/9/2018</td>\n",
       "      <td>PAT19177</td>\n",
       "      <td>Githurai 44</td>\n",
       "      <td>Cash</td>\n",
       "      <td>Male</td>\n",
       "      <td>50.0</td>\n",
       "      <td>36%</td>\n",
       "    </tr>\n",
       "    <tr>\n",
       "      <td>89412</td>\n",
       "      <td>9/9/2018</td>\n",
       "      <td>PAT25161</td>\n",
       "      <td>Pipeline</td>\n",
       "      <td>Sunshine Ltd.</td>\n",
       "      <td>Female</td>\n",
       "      <td>0.0</td>\n",
       "      <td>NaN</td>\n",
       "    </tr>\n",
       "  </tbody>\n",
       "</table>\n",
       "</div>"
      ],
      "text/plain": [
       "      VisitDate PatientId     Location          Payor  Gender  InvoiceTotal  \\\n",
       "89408  9/9/2018  PAT22640       Huruma           Cash  Female        1000.0   \n",
       "89409  9/9/2018  PAT24349        Umoja        Jubilee    Male        1150.0   \n",
       "89410  9/9/2018  PAT14136        Umoja           Cash    Male         500.0   \n",
       "89411  9/9/2018  PAT19177  Githurai 44           Cash    Male          50.0   \n",
       "89412  9/9/2018  PAT25161     Pipeline  Sunshine Ltd.  Female           0.0   \n",
       "\n",
       "      GrossMargin  \n",
       "89408         36%  \n",
       "89409         50%  \n",
       "89410         36%  \n",
       "89411         36%  \n",
       "89412         NaN  "
      ]
     },
     "execution_count": 34,
     "metadata": {},
     "output_type": "execute_result"
    }
   ],
   "source": [
    "bi.tail()"
   ]
  },
  {
   "cell_type": "code",
   "execution_count": 35,
   "metadata": {},
   "outputs": [
    {
     "data": {
      "text/plain": [
       "array(['Cash', 'CIC Corporate', 'Britam', 'CIC Photocard', 'UAP',\n",
       "       'Madison', 'Resolution', 'AON', 'Jubilee', 'Sunshine Ltd.'],\n",
       "      dtype=object)"
      ]
     },
     "execution_count": 35,
     "metadata": {},
     "output_type": "execute_result"
    }
   ],
   "source": [
    "bi.Payor.unique()"
   ]
  },
  {
   "cell_type": "code",
   "execution_count": 36,
   "metadata": {},
   "outputs": [
    {
     "data": {
      "text/html": [
       "<div>\n",
       "<style scoped>\n",
       "    .dataframe tbody tr th:only-of-type {\n",
       "        vertical-align: middle;\n",
       "    }\n",
       "\n",
       "    .dataframe tbody tr th {\n",
       "        vertical-align: top;\n",
       "    }\n",
       "\n",
       "    .dataframe thead th {\n",
       "        text-align: right;\n",
       "    }\n",
       "</style>\n",
       "<table border=\"1\" class=\"dataframe\">\n",
       "  <thead>\n",
       "    <tr style=\"text-align: right;\">\n",
       "      <th></th>\n",
       "      <th>InvoiceTotal</th>\n",
       "    </tr>\n",
       "  </thead>\n",
       "  <tbody>\n",
       "    <tr>\n",
       "      <td>count</td>\n",
       "      <td>89413.000000</td>\n",
       "    </tr>\n",
       "    <tr>\n",
       "      <td>mean</td>\n",
       "      <td>1053.484868</td>\n",
       "    </tr>\n",
       "    <tr>\n",
       "      <td>std</td>\n",
       "      <td>1342.101937</td>\n",
       "    </tr>\n",
       "    <tr>\n",
       "      <td>min</td>\n",
       "      <td>0.000000</td>\n",
       "    </tr>\n",
       "    <tr>\n",
       "      <td>25%</td>\n",
       "      <td>200.000000</td>\n",
       "    </tr>\n",
       "    <tr>\n",
       "      <td>50%</td>\n",
       "      <td>580.000000</td>\n",
       "    </tr>\n",
       "    <tr>\n",
       "      <td>75%</td>\n",
       "      <td>1450.000000</td>\n",
       "    </tr>\n",
       "    <tr>\n",
       "      <td>max</td>\n",
       "      <td>38800.000000</td>\n",
       "    </tr>\n",
       "  </tbody>\n",
       "</table>\n",
       "</div>"
      ],
      "text/plain": [
       "       InvoiceTotal\n",
       "count  89413.000000\n",
       "mean    1053.484868\n",
       "std     1342.101937\n",
       "min        0.000000\n",
       "25%      200.000000\n",
       "50%      580.000000\n",
       "75%     1450.000000\n",
       "max    38800.000000"
      ]
     },
     "execution_count": 36,
     "metadata": {},
     "output_type": "execute_result"
    }
   ],
   "source": [
    "bi.describe()"
   ]
  },
  {
   "cell_type": "code",
   "execution_count": 37,
   "metadata": {},
   "outputs": [],
   "source": [
    "# bi = bi.replace({'0.0':'np.nan'})"
   ]
  },
  {
   "cell_type": "code",
   "execution_count": 38,
   "metadata": {},
   "outputs": [
    {
     "name": "stdout",
     "output_type": "stream",
     "text": [
      "<class 'pandas.core.frame.DataFrame'>\n",
      "RangeIndex: 89413 entries, 0 to 89412\n",
      "Data columns (total 7 columns):\n",
      "VisitDate       89413 non-null object\n",
      "PatientId       89413 non-null object\n",
      "Location        89413 non-null object\n",
      "Payor           89413 non-null object\n",
      "Gender          89413 non-null object\n",
      "InvoiceTotal    89413 non-null float64\n",
      "GrossMargin     89215 non-null object\n",
      "dtypes: float64(1), object(6)\n",
      "memory usage: 4.8+ MB\n"
     ]
    }
   ],
   "source": [
    "bi.info()"
   ]
  },
  {
   "cell_type": "code",
   "execution_count": 44,
   "metadata": {},
   "outputs": [
    {
     "data": {
      "text/html": [
       "<div>\n",
       "<style scoped>\n",
       "    .dataframe tbody tr th:only-of-type {\n",
       "        vertical-align: middle;\n",
       "    }\n",
       "\n",
       "    .dataframe tbody tr th {\n",
       "        vertical-align: top;\n",
       "    }\n",
       "\n",
       "    .dataframe thead th {\n",
       "        text-align: right;\n",
       "    }\n",
       "</style>\n",
       "<table border=\"1\" class=\"dataframe\">\n",
       "  <thead>\n",
       "    <tr style=\"text-align: right;\">\n",
       "      <th></th>\n",
       "      <th>VisitDate</th>\n",
       "      <th>PatientId</th>\n",
       "      <th>Location</th>\n",
       "      <th>Payor</th>\n",
       "      <th>Gender</th>\n",
       "      <th>InvoiceTotal</th>\n",
       "      <th>GrossMargin</th>\n",
       "    </tr>\n",
       "  </thead>\n",
       "  <tbody>\n",
       "    <tr>\n",
       "      <td>0</td>\n",
       "      <td>1/1/2018</td>\n",
       "      <td>PAT16851</td>\n",
       "      <td>Zimmerman</td>\n",
       "      <td>Cash</td>\n",
       "      <td>Female</td>\n",
       "      <td>200.0</td>\n",
       "      <td>36.0</td>\n",
       "    </tr>\n",
       "    <tr>\n",
       "      <td>1</td>\n",
       "      <td>1/1/2018</td>\n",
       "      <td>PAT21149</td>\n",
       "      <td>Embakasi</td>\n",
       "      <td>Cash</td>\n",
       "      <td>Male</td>\n",
       "      <td>500.0</td>\n",
       "      <td>36.0</td>\n",
       "    </tr>\n",
       "    <tr>\n",
       "      <td>2</td>\n",
       "      <td>1/1/2018</td>\n",
       "      <td>PAT12467</td>\n",
       "      <td>Zimmerman</td>\n",
       "      <td>Cash</td>\n",
       "      <td>Male</td>\n",
       "      <td>3728.0</td>\n",
       "      <td>36.0</td>\n",
       "    </tr>\n",
       "    <tr>\n",
       "      <td>3</td>\n",
       "      <td>1/1/2018</td>\n",
       "      <td>PAT23784</td>\n",
       "      <td>Huruma</td>\n",
       "      <td>CIC Corporate</td>\n",
       "      <td>Female</td>\n",
       "      <td>150.0</td>\n",
       "      <td>50.0</td>\n",
       "    </tr>\n",
       "    <tr>\n",
       "      <td>4</td>\n",
       "      <td>1/1/2018</td>\n",
       "      <td>PAT16344</td>\n",
       "      <td>Githurai 44</td>\n",
       "      <td>Cash</td>\n",
       "      <td>Female</td>\n",
       "      <td>2300.0</td>\n",
       "      <td>36.0</td>\n",
       "    </tr>\n",
       "  </tbody>\n",
       "</table>\n",
       "</div>"
      ],
      "text/plain": [
       "  VisitDate PatientId     Location          Payor  Gender  InvoiceTotal  \\\n",
       "0  1/1/2018  PAT16851    Zimmerman           Cash  Female         200.0   \n",
       "1  1/1/2018  PAT21149     Embakasi           Cash    Male         500.0   \n",
       "2  1/1/2018  PAT12467    Zimmerman           Cash    Male        3728.0   \n",
       "3  1/1/2018  PAT23784       Huruma  CIC Corporate  Female         150.0   \n",
       "4  1/1/2018  PAT16344  Githurai 44           Cash  Female        2300.0   \n",
       "\n",
       "   GrossMargin  \n",
       "0         36.0  \n",
       "1         36.0  \n",
       "2         36.0  \n",
       "3         50.0  \n",
       "4         36.0  "
      ]
     },
     "execution_count": 44,
     "metadata": {},
     "output_type": "execute_result"
    }
   ],
   "source": [
    "bi.GrossMargin = bi.GrossMargin.str.replace('%', ' ').astype(float)\n",
    "bi.head()"
   ]
  },
  {
   "cell_type": "markdown",
   "metadata": {},
   "source": [
    "## Exploratory Data Analysis"
   ]
  },
  {
   "cell_type": "code",
   "execution_count": 1,
   "metadata": {},
   "outputs": [
    {
     "ename": "NameError",
     "evalue": "name 'bi' is not defined",
     "output_type": "error",
     "traceback": [
      "\u001b[1;31m---------------------------------------------------------------------------\u001b[0m",
      "\u001b[1;31mNameError\u001b[0m                                 Traceback (most recent call last)",
      "\u001b[1;32m<ipython-input-1-59cecf57f9f9>\u001b[0m in \u001b[0;36m<module>\u001b[1;34m\u001b[0m\n\u001b[1;32m----> 1\u001b[1;33m \u001b[0mbi\u001b[0m\u001b[1;33m.\u001b[0m\u001b[0mdescribe\u001b[0m\u001b[1;33m(\u001b[0m\u001b[1;33m)\u001b[0m\u001b[1;33m\u001b[0m\u001b[1;33m\u001b[0m\u001b[0m\n\u001b[0m",
      "\u001b[1;31mNameError\u001b[0m: name 'bi' is not defined"
     ]
    }
   ],
   "source": [
    "bi.describe()"
   ]
  },
  {
   "cell_type": "code",
   "execution_count": 55,
   "metadata": {},
   "outputs": [
    {
     "data": {
      "image/png": "[encoded data removed]",
      "text/plain": [
       "<Figure size 1440x720 with 1 Axes>"
      ]
     },
     "metadata": {
      "needs_background": "light"
     },
     "output_type": "display_data"
    },
    {
     "data": {
      "text/plain": [
       "<Figure size 5760x2880 with 0 Axes>"
      ]
     },
     "metadata": {},
     "output_type": "display_data"
    }
   ],
   "source": [
    "import seaborn as sns\n",
    "import matplotlib.pyplot as plt\n",
    "fig_dims = (20, 10)\n",
    "fig, ax = plt.subplots(figsize=fig_dims)\n",
    "sns.barplot(x ='Payor', y = 'GrossMargin', data = bi )\n",
    "plt.figure(figsize = (80,40))\n",
    "plt.tight_layout()\n",
    "plt.show()"
   ]
  },
  {
   "cell_type": "markdown",
   "metadata": {},
   "source": [
    "**conclusion:** the company should not enter into a decapitation contract with Techlab. This is because a similar agreement with Sunshine did not yield any income to the company. However, further enquiry should be made to find out why revenue was not realised from this contract."
   ]
  },
  {
   "cell_type": "code",
   "execution_count": null,
   "metadata": {},
   "outputs": [],
   "source": []
  }
 ],
 "metadata": {
  "kernelspec": {
   "display_name": "Python 3",
   "language": "python",
   "name": "python3"
  },
  "language_info": {
   "codemirror_mode": {
    "name": "ipython",
    "version": 3
   },
   "file_extension": ".py",
   "mimetype": "text/x-python",
   "name": "python",
   "nbconvert_exporter": "python",
   "pygments_lexer": "ipython3",
   "version": "3.7.4"
  }
 },
 "nbformat": 4,
 "nbformat_minor": 2
}
